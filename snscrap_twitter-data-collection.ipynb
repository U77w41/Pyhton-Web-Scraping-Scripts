{
 "cells": [
  {
   "cell_type": "code",
   "execution_count": 1,
   "id": "d2951aef",
   "metadata": {
    "_cell_guid": "b1076dfc-b9ad-4769-8c92-a6c4dae69d19",
    "_uuid": "8f2839f25d086af736a60e9eeb907d3b93b6e0e5",
    "execution": {
     "iopub.execute_input": "2022-09-13T12:35:31.270114Z",
     "iopub.status.busy": "2022-09-13T12:35:31.269637Z",
     "iopub.status.idle": "2022-09-13T12:35:45.247366Z",
     "shell.execute_reply": "2022-09-13T12:35:45.245740Z"
    },
    "papermill": {
     "duration": 13.986299,
     "end_time": "2022-09-13T12:35:45.250733",
     "exception": false,
     "start_time": "2022-09-13T12:35:31.264434",
     "status": "completed"
    },
    "tags": []
   },
   "outputs": [
    {
     "name": "stdout",
     "output_type": "stream",
     "text": [
      "Collecting snscrape\r\n",
      "  Downloading snscrape-0.3.4-py3-none-any.whl (35 kB)\r\n",
      "Requirement already satisfied: requests[socks] in /opt/conda/lib/python3.7/site-packages (from snscrape) (2.28.1)\r\n",
      "Requirement already satisfied: beautifulsoup4 in /opt/conda/lib/python3.7/site-packages (from snscrape) (4.11.1)\r\n",
      "Requirement already satisfied: lxml in /opt/conda/lib/python3.7/site-packages (from snscrape) (4.9.1)\r\n",
      "Requirement already satisfied: soupsieve>1.2 in /opt/conda/lib/python3.7/site-packages (from beautifulsoup4->snscrape) (2.3.1)\r\n",
      "Requirement already satisfied: charset-normalizer<3,>=2 in /opt/conda/lib/python3.7/site-packages (from requests[socks]->snscrape) (2.1.0)\r\n",
      "Requirement already satisfied: certifi>=2017.4.17 in /opt/conda/lib/python3.7/site-packages (from requests[socks]->snscrape) (2022.6.15)\r\n",
      "Requirement already satisfied: idna<4,>=2.5 in /opt/conda/lib/python3.7/site-packages (from requests[socks]->snscrape) (3.3)\r\n",
      "Requirement already satisfied: urllib3<1.27,>=1.21.1 in /opt/conda/lib/python3.7/site-packages (from requests[socks]->snscrape) (1.26.11)\r\n",
      "Requirement already satisfied: PySocks!=1.5.7,>=1.5.6 in /opt/conda/lib/python3.7/site-packages (from requests[socks]->snscrape) (1.7.1)\r\n",
      "Installing collected packages: snscrape\r\n",
      "Successfully installed snscrape-0.3.4\r\n",
      "\u001b[33mWARNING: Running pip as the 'root' user can result in broken permissions and conflicting behaviour with the system package manager. It is recommended to use a virtual environment instead: https://pip.pypa.io/warnings/venv\u001b[0m\u001b[33m\r\n",
      "\u001b[0m"
     ]
    }
   ],
   "source": [
    "!pip install snscrape"
   ]
  },
  {
   "cell_type": "code",
   "execution_count": 2,
   "id": "8d6a025e",
   "metadata": {
    "execution": {
     "iopub.execute_input": "2022-09-13T12:35:45.258419Z",
     "iopub.status.busy": "2022-09-13T12:35:45.258001Z",
     "iopub.status.idle": "2022-09-13T12:35:45.470926Z",
     "shell.execute_reply": "2022-09-13T12:35:45.469851Z"
    },
    "papermill": {
     "duration": 0.220442,
     "end_time": "2022-09-13T12:35:45.474073",
     "exception": false,
     "start_time": "2022-09-13T12:35:45.253631",
     "status": "completed"
    },
    "tags": []
   },
   "outputs": [],
   "source": [
    "import snscrape.modules.twitter as sntwitter\n",
    "import pandas as pd"
   ]
  },
  {
   "cell_type": "code",
   "execution_count": 3,
   "id": "cd941060",
   "metadata": {
    "execution": {
     "iopub.execute_input": "2022-09-13T12:35:45.480606Z",
     "iopub.status.busy": "2022-09-13T12:35:45.480175Z",
     "iopub.status.idle": "2022-09-13T12:35:45.485160Z",
     "shell.execute_reply": "2022-09-13T12:35:45.484055Z"
    },
    "papermill": {
     "duration": 0.010963,
     "end_time": "2022-09-13T12:35:45.487570",
     "exception": false,
     "start_time": "2022-09-13T12:35:45.476607",
     "status": "completed"
    },
    "tags": []
   },
   "outputs": [],
   "source": [
    "query = \"(cryptocurrency) until:2022-09-13 since:2022-01-01\"\n",
    "tweets = []\n",
    "limit = 150000"
   ]
  },
  {
   "cell_type": "code",
   "execution_count": 4,
   "id": "8a1c9d66",
   "metadata": {
    "execution": {
     "iopub.execute_input": "2022-09-13T12:35:45.493977Z",
     "iopub.status.busy": "2022-09-13T12:35:45.493604Z",
     "iopub.status.idle": "2022-09-13T14:46:06.941291Z",
     "shell.execute_reply": "2022-09-13T14:46:06.939470Z"
    },
    "papermill": {
     "duration": 7821.454888,
     "end_time": "2022-09-13T14:46:06.944980",
     "exception": false,
     "start_time": "2022-09-13T12:35:45.490092",
     "status": "completed"
    },
    "tags": []
   },
   "outputs": [
    {
     "name": "stdout",
     "output_type": "stream",
     "text": [
      "                            Date             User  \\\n",
      "0      2022-09-12 23:59:55+00:00     SamikThought   \n",
      "1      2022-09-12 23:59:51+00:00   MARSisPOSSIBLE   \n",
      "2      2022-09-12 23:59:27+00:00  RobinSainsbury3   \n",
      "3      2022-09-12 23:59:19+00:00         RixxTech   \n",
      "4      2022-09-12 23:59:15+00:00     CoinWealthly   \n",
      "...                          ...              ...   \n",
      "149995 2022-09-04 08:44:50+00:00   WorldNewsItaly   \n",
      "149996 2022-09-04 08:44:48+00:00    HambleTheBoy2   \n",
      "149997 2022-09-04 08:44:45+00:00    BrisketCrypto   \n",
      "149998 2022-09-04 08:44:45+00:00        HughNora4   \n",
      "149999 2022-09-04 08:44:44+00:00      iamucheagbo   \n",
      "\n",
      "                                                    Tweet  \n",
      "0       Samik found #bitcoin in a User vault at this l...  \n",
      "1       @BxSuperMan152 We have fud hunters #dogelon #d...  \n",
      "2       Go go go #XEC  🚀🚀🚀#XECUSDT #cryptocurrency #Cr...  \n",
      "3       4 hour top movers report #blockchain #crypto #...  \n",
      "4       6/\\n\\nGo to https://t.co/ZtvttxZzKI to join th...  \n",
      "...                                                   ...  \n",
      "149995  Cryptocurrency Prices Keep Falling, But These ...  \n",
      "149996  RENEC is the native token of Remitano Network ...  \n",
      "149997  Suggestions on #cryptocurrency projects we sho...  \n",
      "149998  Was LIVE on #NBC in Tampa talking #cryptocurre...  \n",
      "149999  In a nutshell, assuming everything #gistlover ...  \n",
      "\n",
      "[150000 rows x 3 columns]\n"
     ]
    }
   ],
   "source": [
    "for tweet in sntwitter.TwitterSearchScraper(query).get_items():\n",
    "    \n",
    "    # print(vars(tweet))\n",
    "    # break\n",
    "    if len(tweets) == limit:\n",
    "        break\n",
    "    else:\n",
    "        tweets.append([tweet.date, tweet.username, tweet.content])\n",
    "        \n",
    "df = pd.DataFrame(tweets, columns=['Date', 'User', 'Tweet'])\n",
    "print(df)\n",
    "df.to_csv('C:/Users/Ujjwa/OneDrive/Desktop/Term Projects/Smart-Financial-Assistant/data/raw/cryptocurrency2022.csv')"
   ]
  }
 ],
 "metadata": {
  "kernelspec": {
   "display_name": "Python 3.10.4 64-bit",
   "language": "python",
   "name": "python3"
  },
  "language_info": {
   "codemirror_mode": {
    "name": "ipython",
    "version": 3
   },
   "file_extension": ".py",
   "mimetype": "text/x-python",
   "name": "python",
   "nbconvert_exporter": "python",
   "pygments_lexer": "ipython3",
   "version": "3.10.4"
  },
  "papermill": {
   "default_parameters": {},
   "duration": 7846.912546,
   "end_time": "2022-09-13T14:46:07.890595",
   "environment_variables": {},
   "exception": null,
   "input_path": "__notebook__.ipynb",
   "output_path": "__notebook__.ipynb",
   "parameters": {},
   "start_time": "2022-09-13T12:35:20.978049",
   "version": "2.3.4"
  },
  "vscode": {
   "interpreter": {
    "hash": "369f2c481f4da34e4445cda3fffd2e751bd1c4d706f27375911949ba6bb62e1c"
   }
  }
 },
 "nbformat": 4,
 "nbformat_minor": 5
}
