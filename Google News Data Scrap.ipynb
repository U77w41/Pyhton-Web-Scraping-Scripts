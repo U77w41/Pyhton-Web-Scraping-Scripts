{
 "cells": [
  {
   "cell_type": "code",
   "execution_count": 1,
   "id": "e6b353a3",
   "metadata": {},
   "outputs": [],
   "source": [
    "#import what we need\n",
    "#import nest_asyncio\n",
    "from requests_html import AsyncHTMLSession"
   ]
  },
  {
   "cell_type": "code",
   "execution_count": 2,
   "id": "6934e806",
   "metadata": {},
   "outputs": [
    {
     "name": "stdout",
     "output_type": "stream",
     "text": [
      "103\n"
     ]
    }
   ],
   "source": [
    "#nest_asyncio.apply()\n",
    "asession = AsyncHTMLSession()\n",
    "\n",
    "\n",
    "# r = await asession.get('https://python.org/')\n",
    "\n",
    "#use session to get the page\n",
    "r = await asession.get('https://news.google.com/search?q=cryptocurrency&hl=en-IN&gl=IN&ceid=IN%3Aen/')\n",
    "\n",
    "#render the html, sleep=1 to give it a second to finish before moving on. scrolldown= how many times to page down on the browser, to get more results. 5 was a good number here\n",
    "await r.html.arender(sleep=1, scrolldown=5)\n",
    "articles = r.html.find('article')\n",
    "newslist = []\n",
    "#loop through each article to find the title and link. try and except as repeated articles from other sources have different h tags.\n",
    "for item in articles:\n",
    "    try:\n",
    "        newsitem = item.find('h3', first=True)\n",
    "        title = newsitem.text\n",
    "        link = newsitem.absolute_links\n",
    "        newsarticle = {\n",
    "            'title': title,\n",
    "            'link': link \n",
    "        }\n",
    "        newslist.append(newsarticle)\n",
    "    except:\n",
    "        pass\n",
    "\n",
    "#print the length of the list\n",
    "print(len(newslist))\n"
   ]
  },
  {
   "cell_type": "code",
   "execution_count": 11,
   "id": "89a9f9b3",
   "metadata": {},
   "outputs": [],
   "source": [
    "import pandas as pd\n",
    "df = pd.DataFrame(newslist)\n",
    "df.to_csv('C:/Users/Ujjwa/OneDrive/Desktop/Term Projects/Smart-Financial-Assistant/data/raw/crypto_news.csv')"
   ]
  },
  {
   "cell_type": "code",
   "execution_count": 5,
   "id": "d2e9d91f",
   "metadata": {},
   "outputs": [
    {
     "data": {
      "text/plain": [
       "0      Cryptocurrency and bitcoin price on 12 Sept: B...\n",
       "1      Bitcoin surges above $22,000 while ether slips...\n",
       "2      Bitcoin surges above $22,000 while ether slips...\n",
       "3      Bitcoin surges above $22,000 while ether slips...\n",
       "4      Bitcoin surges above $22,000 while ether slips...\n",
       "                             ...                        \n",
       "98     What Is Cryptocurrency And How Does It Work?\\n...\n",
       "99     Cryptocurrency Price Today: Bitcoin Below $30,...\n",
       "100    Cryptocurrency Update: 6 Coins Gain Up To 674%...\n",
       "101    Cryptocurrency Prices, Trading Updates Today: ...\n",
       "102    10 Best Cryptocurrencies To Invest In 2022 – F...\n",
       "Name: title, Length: 103, dtype: object"
      ]
     },
     "execution_count": 5,
     "metadata": {},
     "output_type": "execute_result"
    }
   ],
   "source": [
    "df.title"
   ]
  },
  {
   "cell_type": "code",
   "execution_count": null,
   "id": "c45e2158",
   "metadata": {},
   "outputs": [],
   "source": []
  }
 ],
 "metadata": {
  "kernelspec": {
   "display_name": "Python 3 (ipykernel)",
   "language": "python",
   "name": "python3"
  },
  "language_info": {
   "codemirror_mode": {
    "name": "ipython",
    "version": 3
   },
   "file_extension": ".py",
   "mimetype": "text/x-python",
   "name": "python",
   "nbconvert_exporter": "python",
   "pygments_lexer": "ipython3",
   "version": "3.9.7"
  }
 },
 "nbformat": 4,
 "nbformat_minor": 5
}
